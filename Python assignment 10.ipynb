{
 "cells": [
  {
   "cell_type": "markdown",
   "id": "7ad0d115",
   "metadata": {},
   "source": [
    "## 1) How do you distinguish between shutil.copy() and shutil.copytree()?\n"
   ]
  },
  {
   "cell_type": "markdown",
   "id": "879fd8cf",
   "metadata": {},
   "source": [
    "The shutil module in Python provides two functions for copying files and directories: shutil.copy() and shutil.copytree(). Here's how we can distinguish between them:\n",
    "\n",
    "shutil.copy(src, dst): This function is used to copy a single file from the source (src) to the destination (dst). It takes two arguments: the path to the source file and the path to the destination file. The destination can be a filename or a directory path.\n",
    "\n",
    "Example:\n",
    "\n",
    "import shutil\n",
    "\n",
    "#Copying a single file:\n",
    "shutil.copy('source/file.txt', 'destination/file.txt')\n",
    "\n",
    "With shutil.copy(), the source file is copied to the specified destination, including its metadata and permissions.\n",
    "\n",
    "shutil.copytree(src, dst): This function is used to recursively copy an entire directory tree from the source (src) to the destination (dst). It takes two arguments: the path to the source directory and the path to the destination directory. The destination directory must not exist beforehand; it will be created by the function.\n",
    "\n",
    "Example:\n",
    "\n",
    "import shutil\n",
    "\n",
    "#Copying an entire directory tree:\n",
    "shutil.copytree('source_dir', 'destination_dir')\n",
    "\n",
    "With shutil.copytree(), the entire directory structure, along with its files and subdirectories, is copied to the destination. It creates a new directory at the destination and copies all the files and directories recursively."
   ]
  },
  {
   "cell_type": "markdown",
   "id": "5959bfc3",
   "metadata": {},
   "source": [
    "## 2) What function is used to rename files??"
   ]
  },
  {
   "cell_type": "markdown",
   "id": "3f79eb54",
   "metadata": {},
   "source": [
    "To rename files in Python, we can use the os.rename() function. This function allows us to change the name of a file by providing the current file path and the new desired file path. Here's an example:\n",
    "\n",
    "import os\n",
    "\n",
    "#Specify the current file path\n",
    "current_path = 'path/to/current_file.txt'\n",
    "\n",
    "#Specify the new file path and name\n",
    "new_path = 'path/to/new_file.txt'\n",
    "\n",
    "#Rename the file\n",
    "os.rename(current_path, new_path)\n",
    "\n",
    "In the example above, the os.rename() function is used to rename the file located at current_path to the new name and path specified by new_path. After executing the code, the file will be renamed accordingly."
   ]
  },
  {
   "cell_type": "markdown",
   "id": "e2778a75",
   "metadata": {},
   "source": [
    "## 3) What is the difference between the delete functions in the send2trash and shutil modules?"
   ]
  },
  {
   "cell_type": "markdown",
   "id": "c9fb19c3",
   "metadata": {},
   "source": [
    "The send2trash and shutil modules in Python provide different functions for deleting files and directories, and they have distinct behaviors:\n",
    "\n",
    "send2trash module:\n",
    "The send2trash module provides a function called send2trash() that moves files or directories to the operating system's trash or recycle bin, instead of permanently deleting them. This allows for a safer and recoverable deletion process, as the items can be restored from the trash if needed.\n",
    "\n",
    "Example:\n",
    "\n",
    "from send2trash import send2trash\n",
    "\n",
    "#Delete a file or directory by sending it to the trash\n",
    "send2trash('path/to/file.txt')\n",
    "\n",
    "The send2trash() function moves the specified file or directory to the trash or recycle bin, depending on the operating system. It does not permanently delete the item.\n",
    "\n",
    "shutil module:\n",
    "The shutil module provides a function called shutil.rmtree() that allows you to recursively delete a directory and its contents. This function permanently deletes the specified directory and all its files and subdirectories.\n",
    "\n",
    "Example:\n",
    "\n",
    "import shutil\n",
    "\n",
    "#Delete a directory and its contents\n",
    "shutil.rmtree('path/to/directory')\n",
    "\n",
    "The shutil.rmtree() function removes the specified directory and all its contents, including all files and subdirectories. It performs a permanent deletion without the ability to restore the deleted items."
   ]
  },
  {
   "cell_type": "markdown",
   "id": "18dcd6f5",
   "metadata": {},
   "source": [
    "## 4) ZipFile objects have a close() method just like File objects’ close() method. What ZipFile method is equivalent to File objects’ open() method?"
   ]
  },
  {
   "cell_type": "markdown",
   "id": "1f6e8358",
   "metadata": {},
   "source": [
    "The equivalent method in the ZipFile class of the zipfile module to the open() method of file objects is the ZipFile() constructor.\n",
    "\n",
    "The ZipFile() constructor is used to create a ZipFile object and open a ZIP archive file for reading or writing. It takes the path to the ZIP file as a parameter and returns a ZipFile object that can be used to interact with the contents of the archive.\n",
    "\n",
    "Here's an example:\n",
    "\n",
    "import zipfile\n",
    "\n",
    "#Open a ZIP file for reading\n",
    "zip_file = zipfile.ZipFile('archive.zip', 'r')\n",
    "\n",
    "#Access and process the contents of the ZIP file\n",
    "#...\n",
    "\n",
    "#Close the ZIP file\n",
    "zip_file.close()\n",
    "\n",
    "In the example above, the ZipFile() constructor is used to open the ZIP file named \"archive.zip\" in read mode ('r'). It returns a ZipFile object assigned to the zip_file variable. We can then perform operations on the archive using methods provided by the ZipFile class. Finally, the close() method is called to close the ZIP file and release any associated resources."
   ]
  },
  {
   "cell_type": "markdown",
   "id": "c7123ffb",
   "metadata": {},
   "source": [
    "## 5) Create a programme that searches a folder tree for files with a certain file extension (such as .pdf or .jpg). Copy these files from whatever location they are in to a new folder."
   ]
  },
  {
   "cell_type": "code",
   "execution_count": 1,
   "id": "0132a6b4",
   "metadata": {},
   "outputs": [],
   "source": [
    "import os\n",
    "import shutil\n",
    "\n",
    "def search_and_copy_files(source_folder, destination_folder, file_extension):\n",
    "    for root, dirs, files in os.walk(source_folder):\n",
    "        for file in files:\n",
    "            if file.endswith(file_extension):\n",
    "                source_path = os.path.join(root, file)\n",
    "                destination_path = os.path.join(destination_folder, file)\n",
    "                shutil.copy(source_path, destination_path)\n",
    "                print(f\"Copied: {source_path} --> {destination_path}\")\n",
    "\n",
    "# Example usage:\n",
    "source_folder = \"path/to/source_folder\"\n",
    "destination_folder = \"path/to/destination_folder\"\n",
    "file_extension = \".pdf\"\n",
    "\n",
    "search_and_copy_files(source_folder, destination_folder, file_extension)"
   ]
  }
 ],
 "metadata": {
  "kernelspec": {
   "display_name": "Python 3 (ipykernel)",
   "language": "python",
   "name": "python3"
  },
  "language_info": {
   "codemirror_mode": {
    "name": "ipython",
    "version": 3
   },
   "file_extension": ".py",
   "mimetype": "text/x-python",
   "name": "python",
   "nbconvert_exporter": "python",
   "pygments_lexer": "ipython3",
   "version": "3.9.13"
  }
 },
 "nbformat": 4,
 "nbformat_minor": 5
}
